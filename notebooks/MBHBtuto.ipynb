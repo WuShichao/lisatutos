{
 "cells": [
  {
   "cell_type": "markdown",
   "metadata": {},
   "source": [
    "# _LDC1-1 Merging Massive Black Hole Binary Tutorial_\n",
    "\n",
    "The data files and codes used in this tutorial can be found on the LISA Data Challenge website:\n",
    "* files: https://lisa-ldc.lal.in2p3.fr/file\n",
    "* codes: https://lisa-ldc.lal.in2p3.fr/code\n",
    "\n",
    "The objectives of the tutorial are:\n",
    "* to manipulate and plot LDC data sets\n",
    "* to generate LISA response to MBHB GW using fast frequency-domain code\n",
    "* to calculate the source signal-to-noise ratio"
   ]
  },
  {
   "cell_type": "markdown",
   "metadata": {},
   "source": [
    "### 1. Importing needed packages"
   ]
  },
  {
   "cell_type": "code",
   "execution_count": 1,
   "metadata": {},
   "outputs": [],
   "source": [
    "# Standard useful python module\n",
    "import numpy as np\n",
    "import copy\n",
    "import sys, os, re\n",
    "from scipy.interpolate import InterpolatedUnivariateSpline as spline\n",
    "# LDC modules\n",
    "import LISAConstants as LC\n",
    "from LISAhdf5 import LISAhdf5,ParsUnits,Str\n",
    "from optparse import OptionParser\n",
    "import GenerateFD_SignalTDIs as GenTDIFD\n",
    "import LW_simple as LW\n",
    "import pyFDresponse as FD_Resp\n",
    "import pyIMRPhenomD\n",
    "import tdi, Cosmology\n",
    "# Plotting modules\n",
    "import matplotlib.pyplot as plt\n",
    "import pandas as pd\n",
    "\n",
    "# Set the path where the MLDC scripts are located\n",
    "script_path = \"/Users/qbaghi/Codes/MLDC/software/LDCpipeline/scripts/\""
   ]
  },
  {
   "cell_type": "markdown",
   "metadata": {},
   "source": [
    "### 2. Reading hdf5 data file"
   ]
  },
  {
   "cell_type": "markdown",
   "metadata": {},
   "source": [
    "#### 2.1 Load noiseless data"
   ]
  },
  {
   "cell_type": "code",
   "execution_count": 2,
   "metadata": {},
   "outputs": [
    {
     "name": "stdout",
     "output_type": "stream",
     "text": [
      "Found 1 GW sources:  ['MBHB-0']\n",
      "\tApproximant IMRPhenomD [ModelName]\n",
      "\tAzimuthalAngleOfSpin1 0.6171792478977071 [Radian]\n",
      "\tAzimuthalAngleOfSpin2 4.75979656623224 [Radian]\n",
      "\tCadence 10.0 [Seconds]\n",
      "\tCoalescenceTime 25135000.0 [Second]\n",
      "\tDistance 60.42017466175677 [Gpc]\n",
      "\tEclipticLatitude -0.5256036732051035 [Radian]\n",
      "\tEclipticLongitude 1.1637 [Radian]\n",
      "\tInitialAzimuthalAngleL 0.30782038099413395 [Radian]\n",
      "\tInitialPolarAngleL 1.2498 [Radian]\n",
      "\tMass1 2803843.776 [SolarMass]\n",
      "\tMass2 285210.246 [SolarMass]\n",
      "\tObservationDuration 41943040.0 [Seconds]\n",
      "\tPhaseAtCoalescence 2.596553404898615 [Radian]\n",
      "\tPolarAngleOfSpin1 0.0 [Radian]\n",
      "\tPolarAngleOfSpin2 0.0 [Radian]\n",
      "\tRedshift 6.1178 [dimensionless]\n",
      "\tSpin1 0.8986046314480332 [MassSquared]\n",
      "\tSpin2 0.9465882372512956 [MassSquared]\n",
      "\n"
     ]
    }
   ],
   "source": [
    "# Specify the hdf5 file path\n",
    "hdf5_path = \"/Users/qbaghi/Codes/data/LDC/LDC1-1_MBHB_v1_1_FD_noiseless.hdf5\"\n",
    "# Open the file with the dedicated LISAhdf5 module\n",
    "FD5 =  LISAhdf5(hdf5_path)\n",
    "# Number of sources\n",
    "Nsrc = FD5.getSourcesNum()\n",
    "# Types of sources\n",
    "GWs = FD5.getSourcesName()\n",
    "print (\"Found %d GW sources: \" % Nsrc, GWs)\n",
    "# Get source parameters\n",
    "p = FD5.getSourceParameters(GWs[0])\n",
    "# Get the time delay interferometry data\n",
    "td = FD5.getPreProcessTDI()\n",
    "# Sampling time\n",
    "del_t = float(p.get(\"Cadence\"))\n",
    "# Observation duration\n",
    "Tobs = float(p.get(\"ObservationDuration\"))\n",
    "# Display the source parameters\n",
    "p.display()"
   ]
  },
  {
   "cell_type": "markdown",
   "metadata": {},
   "source": [
    "#### 2.2 Load noisy data"
   ]
  },
  {
   "cell_type": "code",
   "execution_count": 4,
   "metadata": {},
   "outputs": [],
   "source": [
    "# Specify the hdf5 file path for noisy data\n",
    "hdf5_path_noise = \"/Users/qbaghi/Codes/data/LDC/LDC1-1_MBHB_v1_1_FD.hdf5\"\n",
    "# Open the file with the dedicated LISAhdf5 module\n",
    "FD5_noise =  LISAhdf5(hdf5_path_noise)\n",
    "# Get the time delay interferometry data\n",
    "td_noise = FD5_noise.getPreProcessTDI()"
   ]
  },
  {
   "cell_type": "markdown",
   "metadata": {},
   "source": [
    "#### 2.3 Plot de TDI data in the time domain"
   ]
  },
  {
   "cell_type": "code",
   "execution_count": 5,
   "metadata": {},
   "outputs": [
    {
     "data": {
      "text/plain": [
       "<Figure size 432x288 with 0 Axes>"
      ]
     },
     "metadata": {},
     "output_type": "display_data"
    },
    {
     "data": {
      "image/png": "[encoded data removed]",
      "text/plain": [
       "<Figure size 432x288 with 1 Axes>"
      ]
     },
     "metadata": {
      "needs_background": "light"
     },
     "output_type": "display_data"
    }
   ],
   "source": [
    "df1 = pd.DataFrame(td,columns=['Time','TDI X', 'TDI Y', 'TDI Z'])\n",
    "df1_noise = pd.DataFrame(td_noise,columns=['Time','TDI X (noisy)', 'TDI Y (noisy)', 'TDI Z (noisy)'])\n",
    "plt.figure(1)\n",
    "ax = df1_noise.iloc[2512000:2513800].plot(x = 'Time',y = ['TDI X (noisy)'])\n",
    "df1.iloc[2512000:2513800].plot(x = 'Time',y = ['TDI X'],ax=ax)\n",
    "\n",
    "plt.xlabel(\"Time [s]\")\n",
    "plt.ylabel(\"Fractional frequency\")\n",
    "plt.legend(loc='best')\n",
    "plt.show()"
   ]
  },
  {
   "cell_type": "markdown",
   "metadata": {},
   "source": [
    "#### 2.4 Plot the TDI data in the frequency domain"
   ]
  },
  {
   "cell_type": "markdown",
   "metadata": {},
   "source": [
    "Define tapering window to decrease spectral leakage:"
   ]
  },
  {
   "cell_type": "code",
   "execution_count": 6,
   "metadata": {},
   "outputs": [],
   "source": [
    "def Window(tm):\n",
    "\n",
    "    xl = 1000.0\n",
    "    ind_r = np.argwhere(tm[-1]-tm <= 1000.0)[0][0]\n",
    "    xr = tm[ind_r]\n",
    "    # print (xr)\n",
    "    kap = 0.005\n",
    "    winl = 0.5*(1.0 + np.tanh(kap*(tm-xl)))\n",
    "    winr = 0.5*(1.0 - np.tanh(kap*(tm-xr)))\n",
    "    # plt.plot(tm, winl)\n",
    "    # plt.plot(tm, winr)\n",
    "    # plt.grid(True)\n",
    "    # plt.show()\n",
    "    return (winl*winr)"
   ]
  },
  {
   "cell_type": "markdown",
   "metadata": {},
   "source": [
    "Noiseless data"
   ]
  },
  {
   "cell_type": "code",
   "execution_count": 7,
   "metadata": {},
   "outputs": [],
   "source": [
    "# Number of points in the time series\n",
    "Npts = 2**22\n",
    "# Tapering window to mitigate leakage\n",
    "wind = Window(td[:Npts,0])\n",
    "# Create frequency data matrix\n",
    "td_freq = np.zeros(np.shape(td[:Npts,:]),dtype = np.complex128)\n",
    "# Take discrete Fourier transform of the noiseless data\n",
    "td_freq[:,1:] = np.array( [ np.fft.fft(td[:Npts,i]*wind,axis = 0) for i in range(1,4)] ).T\n",
    "# Compute corresponding frequency vector\n",
    "freq = np.fft.fftfreq(Npts)/del_t\n",
    "td_freq[:,0] = freq\n",
    "# Store the amplitude modulus in data frame (positive frequencies)\n",
    "td_freq_plot = np.zeros(np.shape(td_freq[freq>0,:]),dtype = np.float64) \n",
    "td_freq_plot[:,0] = freq[freq>0]\n",
    "# Apply right normalization to get amplitudes \n",
    "td_freq_plot[:,1:] = np.abs(td_freq[freq>0,1:])*2/np.sum(wind)\n",
    "df2 = pd.DataFrame(td_freq_plot,columns=['freq','TDI X', 'TDI Y', 'TDI Z'])"
   ]
  },
  {
   "cell_type": "markdown",
   "metadata": {},
   "source": [
    "Noisy data"
   ]
  },
  {
   "cell_type": "code",
   "execution_count": 8,
   "metadata": {},
   "outputs": [],
   "source": [
    "# Create frequency data matrix\n",
    "td_noise_freq = np.zeros(np.shape(td_noise[:Npts,:]),dtype = np.complex128)\n",
    "# Take discrete Fourier transform of the noiseless data\n",
    "td_noise_freq[:,1:] = np.array( [ np.fft.fft(td_noise[:Npts,i]*wind,axis = 0) for i in range(1,4)] ).T\n",
    "# Corresponding frequency vector\n",
    "td_noise_freq[:,0] = freq\n",
    "# Store the amplitude modulus in data frame (positive frequencies)\n",
    "td_freq_plot = np.zeros(np.shape(td_noise_freq[freq>0,:]),dtype = np.float64) \n",
    "td_freq_plot[:,0] = freq[freq>0]\n",
    "# Apply right normalization to get amplitudes \n",
    "td_freq_plot[:,1:] = np.abs(td_noise_freq[freq>0,1:])*2/np.sum(wind)\n",
    "df2_noise = pd.DataFrame(td_freq_plot,columns=['freq','TDI X (noisy)', 'TDI Y (noisy)', 'TDI Z (noisy)'])"
   ]
  },
  {
   "cell_type": "markdown",
   "metadata": {},
   "source": [
    "Plots"
   ]
  },
  {
   "cell_type": "code",
   "execution_count": 9,
   "metadata": {},
   "outputs": [
    {
     "data": {
      "text/plain": [
       "<matplotlib.legend.Legend at 0x11fc2c710>"
      ]
     },
     "execution_count": 9,
     "metadata": {},
     "output_type": "execute_result"
    },
    {
     "data": {
      "text/plain": [
       "<Figure size 432x288 with 0 Axes>"
      ]
     },
     "metadata": {},
     "output_type": "display_data"
    },
    {
     "data": {
      "image/png": "[encoded data removed]",
      "text/plain": [
       "<Figure size 432x288 with 1 Axes>"
      ]
     },
     "metadata": {
      "needs_background": "light"
     },
     "output_type": "display_data"
    }
   ],
   "source": [
    "# Plot the Fourier amplitudes\n",
    "plt.figure(3)\n",
    "ax2 = df2_noise.plot(x = 'freq',y = ['TDI X (noisy)'],logx=True,logy=True)\n",
    "df2.plot(x = 'freq',y = ['TDI X'],logx=True,logy=True,ax = ax2)\n",
    "plt.xlabel(\"Frequency [Hz]\")\n",
    "plt.ylabel(\"Fractional frequency\")\n",
    "plt.legend(loc='best')"
   ]
  },
  {
   "cell_type": "markdown",
   "metadata": {},
   "source": [
    "### 3. Generate the signal in the frequency domain using PhemomD: fast generation"
   ]
  },
  {
   "cell_type": "markdown",
   "metadata": {},
   "source": [
    "#### 3.1 Duplicate the hdf5 file"
   ]
  },
  {
   "cell_type": "code",
   "execution_count": 10,
   "metadata": {},
   "outputs": [
    {
     "name": "stdout",
     "output_type": "stream",
     "text": [
      "WARNING in LISAhdf5:addSource :\n",
      "\tLooks like this source ( MBHB-0 ) exist or name is used twice\n",
      "\t=> proceed with overwriting it\n"
     ]
    }
   ],
   "source": [
    "hdf5_path_FD = hdf5_path[:-5] + \"_FD.hdf5\"\n",
    "FD5_FD = LISAhdf5(hdf5_path_FD)\n",
    "FD5_FD.addSource(GWs[0], p, overwrite=True)"
   ]
  },
  {
   "cell_type": "markdown",
   "metadata": {},
   "source": [
    "#### 3.2 Computing the X, Y, Z in frequency domain using approximate response function"
   ]
  },
  {
   "cell_type": "code",
   "execution_count": 11,
   "metadata": {},
   "outputs": [],
   "source": [
    "dTDI_FD = GenTDIFD.ComputeMBHBXYZ_FD(p)\n",
    "dTDI_FD = np.array(dTDI_FD).T\n",
    "dTDI_FD[:,1:] = dTDI_FD[:,1:]*2/Tobs"
   ]
  },
  {
   "cell_type": "markdown",
   "metadata": {},
   "source": [
    "#### 3.3 Comparing to simulated data"
   ]
  },
  {
   "cell_type": "code",
   "execution_count": 12,
   "metadata": {},
   "outputs": [
    {
     "data": {
      "text/plain": [
       "<matplotlib.legend.Legend at 0x12786ac88>"
      ]
     },
     "execution_count": 12,
     "metadata": {},
     "output_type": "execute_result"
    },
    {
     "data": {
      "text/plain": [
       "<Figure size 432x288 with 0 Axes>"
      ]
     },
     "metadata": {},
     "output_type": "display_data"
    },
    {
     "data": {
      "image/png": "[encoded data removed]",
      "text/plain": [
       "<Figure size 432x288 with 1 Axes>"
      ]
     },
     "metadata": {
      "needs_background": "light"
     },
     "output_type": "display_data"
    }
   ],
   "source": [
    "df3 = pd.DataFrame(np.abs(dTDI_FD),columns=['f','TDI X (FD)', 'TDI Y (FD)', 'TDI Z (FD)'])\n",
    "plt.figure(4)\n",
    "ax3 = df2.plot(x = 'freq',y = 'TDI X',logx=True,logy=True)\n",
    "df3.plot(x = 'f', y = 'TDI X (FD)',ax = ax3, logx=True,logy=True,style='--')\n",
    "plt.xlabel(\"Frequency [Hz]\")\n",
    "plt.ylabel(\"Fractional frequency\")\n",
    "plt.legend(loc='best')"
   ]
  },
  {
   "cell_type": "markdown",
   "metadata": {},
   "source": [
    "### 4. Compute signal-to-noise ratio"
   ]
  },
  {
   "cell_type": "markdown",
   "metadata": {},
   "source": [
    "#### 4.1 Consider X channel only"
   ]
  },
  {
   "cell_type": "code",
   "execution_count": 13,
   "metadata": {},
   "outputs": [],
   "source": [
    "# Consider Fourier-transformed TDI X channel only\n",
    "Xdf = td_freq[:,1]*del_t\n",
    "# Consider positive frequencies only\n",
    "inds = np.where(freq>0)[0]"
   ]
  },
  {
   "cell_type": "markdown",
   "metadata": {},
   "source": [
    "#### 4.2 Compute corresponding theoretical noise power spectral density\n"
   ]
  },
  {
   "cell_type": "code",
   "execution_count": 14,
   "metadata": {},
   "outputs": [],
   "source": [
    "Sx = tdi.noisepsd_X(freq[inds], model='Proposal', includewd=None)"
   ]
  },
  {
   "cell_type": "markdown",
   "metadata": {},
   "source": [
    "#### 4.3 Compute SNR"
   ]
  },
  {
   "cell_type": "code",
   "execution_count": 15,
   "metadata": {},
   "outputs": [
    {
     "name": "stdout",
     "output_type": "stream",
     "text": [
      "Computed SNR is 274.3158858351279\n"
     ]
    }
   ],
   "source": [
    "# Frequency resolution\n",
    "df = 1/Tobs\n",
    "# SNR \n",
    "SNR_X = (4.0*df) * np.sum(np.abs(Xdf[inds])**2/Sx)\n",
    "print(\"Computed SNR is \" + str(np.sqrt(SNR_X)))"
   ]
  },
  {
   "cell_type": "code",
   "execution_count": null,
   "metadata": {},
   "outputs": [],
   "source": []
  }
 ],
 "metadata": {
  "kernelspec": {
   "display_name": "Python 3",
   "language": "python",
   "name": "python3"
  },
  "language_info": {
   "codemirror_mode": {
    "name": "ipython",
    "version": 3
   },
   "file_extension": ".py",
   "mimetype": "text/x-python",
   "name": "python",
   "nbconvert_exporter": "python",
   "pygments_lexer": "ipython3",
   "version": "3.6.5"
  }
 },
 "nbformat": 4,
 "nbformat_minor": 2
}
